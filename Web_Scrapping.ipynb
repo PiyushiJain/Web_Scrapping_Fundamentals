{
  "nbformat": 4,
  "nbformat_minor": 0,
  "metadata": {
    "kernelspec": {
      "display_name": "Python 3",
      "language": "python",
      "name": "python3"
    },
    "language_info": {
      "codemirror_mode": {
        "name": "ipython",
        "version": 3
      },
      "file_extension": ".py",
      "mimetype": "text/x-python",
      "name": "python",
      "nbconvert_exporter": "python",
      "pygments_lexer": "ipython3",
      "version": "3.6.5"
    },
    "colab": {
      "name": "Web Scrapping",
      "provenance": [],
      "include_colab_link": true
    }
  },
  "cells": [
    {
      "cell_type": "markdown",
      "metadata": {
        "id": "view-in-github",
        "colab_type": "text"
      },
      "source": [
        "<a href=\"https://colab.research.google.com/github/PiyushiJain/Web_Scrapping_Fundamentals/blob/master/Web_Scrapping.ipynb\" target=\"_parent\"><img src=\"https://colab.research.google.com/assets/colab-badge.svg\" alt=\"Open In Colab\"/></a>"
      ]
    },
    {
      "cell_type": "code",
      "metadata": {
        "id": "6k77sqqPRoNk",
        "colab_type": "code",
        "colab": {}
      },
      "source": [
        "from bs4 import BeautifulSoup\n",
        "import requests"
      ],
      "execution_count": 0,
      "outputs": []
    },
    {
      "cell_type": "code",
      "metadata": {
        "id": "mpDWnJkrRoNr",
        "colab_type": "code",
        "colab": {}
      },
      "source": [
        "url='https://www.google.com/search?q=tanvi'\n"
      ],
      "execution_count": 0,
      "outputs": []
    },
    {
      "cell_type": "code",
      "metadata": {
        "id": "YEAYTv_GRoNu",
        "colab_type": "code",
        "colab": {}
      },
      "source": [
        "r = requests.get(url)"
      ],
      "execution_count": 0,
      "outputs": []
    },
    {
      "cell_type": "code",
      "metadata": {
        "id": "4YGUeVoKRoNw",
        "colab_type": "code",
        "colab": {},
        "outputId": "6baafaac-e7a4-45ae-964a-e8f8e7494b6b"
      },
      "source": [
        "r.status_code"
      ],
      "execution_count": 0,
      "outputs": [
        {
          "output_type": "execute_result",
          "data": {
            "text/plain": [
              "200"
            ]
          },
          "metadata": {
            "tags": []
          },
          "execution_count": 4
        }
      ]
    },
    {
      "cell_type": "code",
      "metadata": {
        "id": "yK3EIYy8RoN0",
        "colab_type": "code",
        "colab": {}
      },
      "source": [
        "url2 = 'https://pythonhow.com/example.html'"
      ],
      "execution_count": 0,
      "outputs": []
    },
    {
      "cell_type": "code",
      "metadata": {
        "id": "MyJW36xWRoN2",
        "colab_type": "code",
        "colab": {}
      },
      "source": [
        "head = {'Upgrade-Insecure-Requests': '1',\n",
        "'User-Agent': 'Mozilla/5.0 (Windows NT 10.0; Win64; x64) AppleWebKit/537.36 (KHTML, like Gecko) Chrome/76.0.3809.100 Safari/537.36',\n",
        "'Sec-Fetch-Mode': 'navigate',\n",
        "'Sec-Fetch-User': '?1',\n",
        "'Accept': 'text/html,application/xhtml+xml,application/xml;q=0.9,image/webp,image/apng,*/*;q=0.8,application/signed-exchange;v=b3'\n",
        "}"
      ],
      "execution_count": 0,
      "outputs": []
    },
    {
      "cell_type": "code",
      "metadata": {
        "id": "364Pva_DRoN4",
        "colab_type": "code",
        "colab": {}
      },
      "source": [
        "r2 = requests.get(url2,headers=head)"
      ],
      "execution_count": 0,
      "outputs": []
    },
    {
      "cell_type": "code",
      "metadata": {
        "id": "0Fv1ghMCRoN7",
        "colab_type": "code",
        "colab": {},
        "outputId": "73fe9f7e-9613-40d0-b740-edcf76173523"
      },
      "source": [
        "r2.status_code"
      ],
      "execution_count": 0,
      "outputs": [
        {
          "output_type": "execute_result",
          "data": {
            "text/plain": [
              "200"
            ]
          },
          "metadata": {
            "tags": []
          },
          "execution_count": 8
        }
      ]
    },
    {
      "cell_type": "code",
      "metadata": {
        "id": "J62hXPqyRoN-",
        "colab_type": "code",
        "colab": {},
        "outputId": "b53abd0d-aba4-42eb-e1b3-bad21f1c5476"
      },
      "source": [
        "r2.status_code"
      ],
      "execution_count": 0,
      "outputs": [
        {
          "output_type": "execute_result",
          "data": {
            "text/plain": [
              "200"
            ]
          },
          "metadata": {
            "tags": []
          },
          "execution_count": 9
        }
      ]
    },
    {
      "cell_type": "code",
      "metadata": {
        "id": "hR4Orj3FRoOB",
        "colab_type": "code",
        "colab": {},
        "outputId": "1285a57d-05f9-43fa-b728-05d839b02437"
      },
      "source": [
        "print(r2.text)"
      ],
      "execution_count": 0,
      "outputs": [
        {
          "output_type": "stream",
          "text": [
            "<!DOCTYPE html>\n",
            "<html>\n",
            "<head>\n",
            "<style>\n",
            "div.cities {\n",
            "    background-color:black;\n",
            "    color:white;\n",
            "    margin:20px;\n",
            "    padding:20px;\n",
            "} \n",
            "</style>\n",
            "</head>\n",
            "<body>\n",
            "<h1 align=\"center\"> Here are three big cities </h1>\n",
            "<div class=\"cities\">\n",
            "<h2>London</h2>\n",
            "<p>London is the capital of England and it's been a British settlement since 2000 years ago. </p>\n",
            "</div>\n",
            "<div class=\"cities\">\n",
            "<h2>Paris</h2>\n",
            "<p>Paris is the capital city of France. It was declared capital since 508.</p>\n",
            "</div>\n",
            "<div class=\"cities\">\n",
            "<h2>Tokyo</h2>\n",
            "<p>Tokyo is the capital of Japan and one of the most populated cities in the world.</p>\n",
            "</div>\n",
            "</body>\n",
            "</html>\n"
          ],
          "name": "stdout"
        }
      ]
    },
    {
      "cell_type": "code",
      "metadata": {
        "id": "JLmMszFpRoOD",
        "colab_type": "code",
        "colab": {}
      },
      "source": [
        "soup = BeautifulSoup(r2.text,'html.parser')"
      ],
      "execution_count": 0,
      "outputs": []
    },
    {
      "cell_type": "code",
      "metadata": {
        "id": "2A6tEa_uRoOF",
        "colab_type": "code",
        "colab": {}
      },
      "source": [
        "cityName = soup.find_all('h2')"
      ],
      "execution_count": 0,
      "outputs": []
    },
    {
      "cell_type": "code",
      "metadata": {
        "id": "NKQ3zXdZRoOI",
        "colab_type": "code",
        "colab": {},
        "outputId": "5779528f-81f9-4e22-c639-47419dc68112"
      },
      "source": [
        "cityName"
      ],
      "execution_count": 0,
      "outputs": [
        {
          "output_type": "execute_result",
          "data": {
            "text/plain": [
              "[<h2>London</h2>, <h2>Paris</h2>, <h2>Tokyo</h2>]"
            ]
          },
          "metadata": {
            "tags": []
          },
          "execution_count": 13
        }
      ]
    },
    {
      "cell_type": "code",
      "metadata": {
        "id": "AvpkksnJRoOL",
        "colab_type": "code",
        "colab": {}
      },
      "source": [
        "descs = soup.find_all('p')"
      ],
      "execution_count": 0,
      "outputs": []
    },
    {
      "cell_type": "code",
      "metadata": {
        "id": "XoNnZq3PRoON",
        "colab_type": "code",
        "colab": {},
        "outputId": "bd0bb1e2-ce31-4fb7-80ec-e88791d777e6"
      },
      "source": [
        "descs"
      ],
      "execution_count": 0,
      "outputs": [
        {
          "output_type": "execute_result",
          "data": {
            "text/plain": [
              "[<p>London is the capital of England and it's been a British settlement since 2000 years ago. </p>,\n",
              " <p>Paris is the capital city of France. It was declared capital since 508.</p>,\n",
              " <p>Tokyo is the capital of Japan and one of the most populated cities in the world.</p>]"
            ]
          },
          "metadata": {
            "tags": []
          },
          "execution_count": 15
        }
      ]
    },
    {
      "cell_type": "code",
      "metadata": {
        "id": "diCJ0HyQRoOQ",
        "colab_type": "code",
        "colab": {},
        "outputId": "2936bb0b-4e43-4344-ad84-c3f21bcef670"
      },
      "source": [
        "cityName[0]"
      ],
      "execution_count": 0,
      "outputs": [
        {
          "output_type": "execute_result",
          "data": {
            "text/plain": [
              "<h2>London</h2>"
            ]
          },
          "metadata": {
            "tags": []
          },
          "execution_count": 16
        }
      ]
    },
    {
      "cell_type": "code",
      "metadata": {
        "id": "EukeQ-5hRoOS",
        "colab_type": "code",
        "colab": {},
        "outputId": "854b1fda-5cbe-4fcb-cb48-672eed10348f"
      },
      "source": [
        "cityName[0].text"
      ],
      "execution_count": 0,
      "outputs": [
        {
          "output_type": "execute_result",
          "data": {
            "text/plain": [
              "'London'"
            ]
          },
          "metadata": {
            "tags": []
          },
          "execution_count": 17
        }
      ]
    },
    {
      "cell_type": "code",
      "metadata": {
        "id": "aOWXjnviRoOU",
        "colab_type": "code",
        "colab": {},
        "outputId": "ae2f53ec-c31b-4a39-91a7-bf3c4a368b7b"
      },
      "source": [
        "cityName"
      ],
      "execution_count": 0,
      "outputs": [
        {
          "output_type": "execute_result",
          "data": {
            "text/plain": [
              "[<h2>London</h2>, <h2>Paris</h2>, <h2>Tokyo</h2>]"
            ]
          },
          "metadata": {
            "tags": []
          },
          "execution_count": 18
        }
      ]
    },
    {
      "cell_type": "code",
      "metadata": {
        "id": "MY7TBAEmRoOX",
        "colab_type": "code",
        "colab": {}
      },
      "source": [
        "s1 = soup.find_all('div',{'class':'cities'})"
      ],
      "execution_count": 0,
      "outputs": []
    },
    {
      "cell_type": "code",
      "metadata": {
        "id": "CTjBLKpKRoOf",
        "colab_type": "code",
        "colab": {},
        "outputId": "78a84e0c-40ca-4f11-bbce-967c08122822"
      },
      "source": [
        "s1"
      ],
      "execution_count": 0,
      "outputs": [
        {
          "output_type": "execute_result",
          "data": {
            "text/plain": [
              "[<div class=\"cities\">\n",
              " <h2>London</h2>\n",
              " <p>London is the capital of England and it's been a British settlement since 2000 years ago. </p>\n",
              " </div>, <div class=\"cities\">\n",
              " <h2>Paris</h2>\n",
              " <p>Paris is the capital city of France. It was declared capital since 508.</p>\n",
              " </div>, <div class=\"cities\">\n",
              " <h2>Tokyo</h2>\n",
              " <p>Tokyo is the capital of Japan and one of the most populated cities in the world.</p>\n",
              " </div>]"
            ]
          },
          "metadata": {
            "tags": []
          },
          "execution_count": 20
        }
      ]
    },
    {
      "cell_type": "code",
      "metadata": {
        "id": "tZMJi0tuRoOj",
        "colab_type": "code",
        "colab": {}
      },
      "source": [
        "d = {'city' : [i.text for i in soup.find_all('h2')],\n",
        "        'desc' : [i.text for i in soup.find_all('p')]}"
      ],
      "execution_count": 0,
      "outputs": []
    },
    {
      "cell_type": "code",
      "metadata": {
        "id": "Bvd9WdfwRoOm",
        "colab_type": "code",
        "colab": {},
        "outputId": "9aadc2ac-315a-45ad-8d34-5b7c57ae11e0"
      },
      "source": [
        "d"
      ],
      "execution_count": 0,
      "outputs": [
        {
          "output_type": "execute_result",
          "data": {
            "text/plain": [
              "{'city': ['London', 'Paris', 'Tokyo'],\n",
              " 'desc': [\"London is the capital of England and it's been a British settlement since 2000 years ago. \",\n",
              "  'Paris is the capital city of France. It was declared capital since 508.',\n",
              "  'Tokyo is the capital of Japan and one of the most populated cities in the world.']}"
            ]
          },
          "metadata": {
            "tags": []
          },
          "execution_count": 22
        }
      ]
    },
    {
      "cell_type": "code",
      "metadata": {
        "id": "xRI_qiWFRoOq",
        "colab_type": "code",
        "colab": {}
      },
      "source": [
        "import pandas as pd"
      ],
      "execution_count": 0,
      "outputs": []
    },
    {
      "cell_type": "code",
      "metadata": {
        "id": "KVziNmFdRoOu",
        "colab_type": "code",
        "colab": {}
      },
      "source": [
        "df = pd.DataFrame(d)"
      ],
      "execution_count": 0,
      "outputs": []
    },
    {
      "cell_type": "code",
      "metadata": {
        "id": "BqxgQTaERoOw",
        "colab_type": "code",
        "colab": {},
        "outputId": "47dc32ae-6039-4264-95db-1157e24b2271"
      },
      "source": [
        "df"
      ],
      "execution_count": 0,
      "outputs": [
        {
          "output_type": "execute_result",
          "data": {
            "text/html": [
              "<div>\n",
              "<style scoped>\n",
              "    .dataframe tbody tr th:only-of-type {\n",
              "        vertical-align: middle;\n",
              "    }\n",
              "\n",
              "    .dataframe tbody tr th {\n",
              "        vertical-align: top;\n",
              "    }\n",
              "\n",
              "    .dataframe thead th {\n",
              "        text-align: right;\n",
              "    }\n",
              "</style>\n",
              "<table border=\"1\" class=\"dataframe\">\n",
              "  <thead>\n",
              "    <tr style=\"text-align: right;\">\n",
              "      <th></th>\n",
              "      <th>city</th>\n",
              "      <th>desc</th>\n",
              "    </tr>\n",
              "  </thead>\n",
              "  <tbody>\n",
              "    <tr>\n",
              "      <th>0</th>\n",
              "      <td>London</td>\n",
              "      <td>London is the capital of England and it's been...</td>\n",
              "    </tr>\n",
              "    <tr>\n",
              "      <th>1</th>\n",
              "      <td>Paris</td>\n",
              "      <td>Paris is the capital city of France. It was de...</td>\n",
              "    </tr>\n",
              "    <tr>\n",
              "      <th>2</th>\n",
              "      <td>Tokyo</td>\n",
              "      <td>Tokyo is the capital of Japan and one of the m...</td>\n",
              "    </tr>\n",
              "  </tbody>\n",
              "</table>\n",
              "</div>"
            ],
            "text/plain": [
              "     city                                               desc\n",
              "0  London  London is the capital of England and it's been...\n",
              "1   Paris  Paris is the capital city of France. It was de...\n",
              "2   Tokyo  Tokyo is the capital of Japan and one of the m..."
            ]
          },
          "metadata": {
            "tags": []
          },
          "execution_count": 25
        }
      ]
    },
    {
      "cell_type": "code",
      "metadata": {
        "id": "NkxZ0CabRoOz",
        "colab_type": "code",
        "colab": {}
      },
      "source": [
        "url3 = 'https://www.flipkart.com/search?q=fossil+watch&page=1'"
      ],
      "execution_count": 0,
      "outputs": []
    },
    {
      "cell_type": "code",
      "metadata": {
        "id": "QFQnC7Z9RoO2",
        "colab_type": "code",
        "colab": {}
      },
      "source": [
        "r3 = requests.get(url3,headers=head)"
      ],
      "execution_count": 0,
      "outputs": []
    },
    {
      "cell_type": "code",
      "metadata": {
        "id": "W4PfSG0aRoO5",
        "colab_type": "code",
        "colab": {},
        "outputId": "a2fd1499-10f4-4001-e81e-91e6443b4aeb"
      },
      "source": [
        "r3.status_code"
      ],
      "execution_count": 0,
      "outputs": [
        {
          "output_type": "execute_result",
          "data": {
            "text/plain": [
              "200"
            ]
          },
          "metadata": {
            "tags": []
          },
          "execution_count": 28
        }
      ]
    },
    {
      "cell_type": "code",
      "metadata": {
        "id": "oYsO6Vn1RoO8",
        "colab_type": "code",
        "colab": {}
      },
      "source": [
        "soup3 = BeautifulSoup(r3.text,'html.parser')"
      ],
      "execution_count": 0,
      "outputs": []
    },
    {
      "cell_type": "code",
      "metadata": {
        "id": "zIdCy4SBRoO-",
        "colab_type": "code",
        "colab": {}
      },
      "source": [
        "ghadiKaNaam = soup3.find_all('a',{'class':'_2cLu-l'})"
      ],
      "execution_count": 0,
      "outputs": []
    },
    {
      "cell_type": "code",
      "metadata": {
        "id": "blS7BdXxRoPA",
        "colab_type": "code",
        "colab": {}
      },
      "source": [
        "Names = [i.text for i in soup3.find_all('a',{'class':'_2cLu-l'})]"
      ],
      "execution_count": 0,
      "outputs": []
    },
    {
      "cell_type": "code",
      "metadata": {
        "id": "3XmHc1ynRoPC",
        "colab_type": "code",
        "colab": {},
        "outputId": "2f444482-a6c6-4f95-e225-f666e63318cf"
      },
      "source": [
        "df2 = pd.DataFrame({'Names':Names})\n",
        "df2.head()"
      ],
      "execution_count": 0,
      "outputs": [
        {
          "output_type": "execute_result",
          "data": {
            "text/html": [
              "<div>\n",
              "<style scoped>\n",
              "    .dataframe tbody tr th:only-of-type {\n",
              "        vertical-align: middle;\n",
              "    }\n",
              "\n",
              "    .dataframe tbody tr th {\n",
              "        vertical-align: top;\n",
              "    }\n",
              "\n",
              "    .dataframe thead th {\n",
              "        text-align: right;\n",
              "    }\n",
              "</style>\n",
              "<table border=\"1\" class=\"dataframe\">\n",
              "  <thead>\n",
              "    <tr style=\"text-align: right;\">\n",
              "      <th></th>\n",
              "      <th>Names</th>\n",
              "    </tr>\n",
              "  </thead>\n",
              "  <tbody>\n",
              "    <tr>\n",
              "      <th>0</th>\n",
              "      <td>Fossil ES4079 Stella Analog Watch  - For Women</td>\n",
              "    </tr>\n",
              "    <tr>\n",
              "      <th>1</th>\n",
              "      <td>Fossil FS4682 Machine Analog Watch  - For Men</td>\n",
              "    </tr>\n",
              "    <tr>\n",
              "      <th>2</th>\n",
              "      <td>Fossil FS4662 MACHINE Watch  - For Men &amp; Women</td>\n",
              "    </tr>\n",
              "    <tr>\n",
              "      <th>3</th>\n",
              "      <td>Fossil CH2647 Decker Analog Watch  - For Men</td>\n",
              "    </tr>\n",
              "    <tr>\n",
              "      <th>4</th>\n",
              "      <td>Fossil BQ3182 KARLI Analog Watch  - For Women</td>\n",
              "    </tr>\n",
              "  </tbody>\n",
              "</table>\n",
              "</div>"
            ],
            "text/plain": [
              "                                            Names\n",
              "0  Fossil ES4079 Stella Analog Watch  - For Women\n",
              "1   Fossil FS4682 Machine Analog Watch  - For Men\n",
              "2  Fossil FS4662 MACHINE Watch  - For Men & Women\n",
              "3    Fossil CH2647 Decker Analog Watch  - For Men\n",
              "4   Fossil BQ3182 KARLI Analog Watch  - For Women"
            ]
          },
          "metadata": {
            "tags": []
          },
          "execution_count": 32
        }
      ]
    },
    {
      "cell_type": "code",
      "metadata": {
        "id": "pVUVBKH9RoPF",
        "colab_type": "code",
        "colab": {}
      },
      "source": [
        "df2['Gender'] = df2['Names'].apply(lambda x: 'Women' if 'women' in x.lower() else 'Men')"
      ],
      "execution_count": 0,
      "outputs": []
    },
    {
      "cell_type": "code",
      "metadata": {
        "id": "ihj5Ra4kRoPG",
        "colab_type": "code",
        "colab": {},
        "outputId": "3d8853bb-1f04-4d60-ecb6-218ea5c02a79"
      },
      "source": [
        "df2.head()"
      ],
      "execution_count": 0,
      "outputs": [
        {
          "output_type": "execute_result",
          "data": {
            "text/html": [
              "<div>\n",
              "<style scoped>\n",
              "    .dataframe tbody tr th:only-of-type {\n",
              "        vertical-align: middle;\n",
              "    }\n",
              "\n",
              "    .dataframe tbody tr th {\n",
              "        vertical-align: top;\n",
              "    }\n",
              "\n",
              "    .dataframe thead th {\n",
              "        text-align: right;\n",
              "    }\n",
              "</style>\n",
              "<table border=\"1\" class=\"dataframe\">\n",
              "  <thead>\n",
              "    <tr style=\"text-align: right;\">\n",
              "      <th></th>\n",
              "      <th>Names</th>\n",
              "      <th>Gender</th>\n",
              "    </tr>\n",
              "  </thead>\n",
              "  <tbody>\n",
              "    <tr>\n",
              "      <th>0</th>\n",
              "      <td>Fossil ES4079 Stella Analog Watch  - For Women</td>\n",
              "      <td>Women</td>\n",
              "    </tr>\n",
              "    <tr>\n",
              "      <th>1</th>\n",
              "      <td>Fossil FS4682 Machine Analog Watch  - For Men</td>\n",
              "      <td>Men</td>\n",
              "    </tr>\n",
              "    <tr>\n",
              "      <th>2</th>\n",
              "      <td>Fossil FS4662 MACHINE Watch  - For Men &amp; Women</td>\n",
              "      <td>Women</td>\n",
              "    </tr>\n",
              "    <tr>\n",
              "      <th>3</th>\n",
              "      <td>Fossil CH2647 Decker Analog Watch  - For Men</td>\n",
              "      <td>Men</td>\n",
              "    </tr>\n",
              "    <tr>\n",
              "      <th>4</th>\n",
              "      <td>Fossil BQ3182 KARLI Analog Watch  - For Women</td>\n",
              "      <td>Women</td>\n",
              "    </tr>\n",
              "  </tbody>\n",
              "</table>\n",
              "</div>"
            ],
            "text/plain": [
              "                                            Names Gender\n",
              "0  Fossil ES4079 Stella Analog Watch  - For Women  Women\n",
              "1   Fossil FS4682 Machine Analog Watch  - For Men    Men\n",
              "2  Fossil FS4662 MACHINE Watch  - For Men & Women  Women\n",
              "3    Fossil CH2647 Decker Analog Watch  - For Men    Men\n",
              "4   Fossil BQ3182 KARLI Analog Watch  - For Women  Women"
            ]
          },
          "metadata": {
            "tags": []
          },
          "execution_count": 34
        }
      ]
    },
    {
      "cell_type": "code",
      "metadata": {
        "id": "nLGgW59BRoPI",
        "colab_type": "code",
        "colab": {}
      },
      "source": [
        ""
      ],
      "execution_count": 0,
      "outputs": []
    }
  ]
}